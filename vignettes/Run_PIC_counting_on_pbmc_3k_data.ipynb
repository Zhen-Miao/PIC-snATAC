{
  "nbformat": 4,
  "nbformat_minor": 0,
  "metadata": {
    "colab": {
      "provenance": [],
      "authorship_tag": "ABX9TyNvUeGOHX03ieFMfOyFK/Ir",
      "include_colab_link": true
    },
    "kernelspec": {
      "name": "ir",
      "display_name": "R"
    },
    "language_info": {
      "name": "R"
    }
  },
  "cells": [
    {
      "cell_type": "markdown",
      "metadata": {
        "id": "view-in-github",
        "colab_type": "text"
      },
      "source": [
        "<a href=\"https://colab.research.google.com/github/Zhen-Miao/PIC-snATAC/blob/main/vignettes/Run_PIC_counting_on_pbmc_3k_data.ipynb\" target=\"_parent\"><img src=\"https://colab.research.google.com/assets/colab-badge.svg\" alt=\"Open In Colab\"/></a>"
      ]
    },
    {
      "cell_type": "markdown",
      "source": [
        "# Run PIC counting on pbmc_3k data\n"
      ],
      "metadata": {
        "id": "PWtXuojVDWW8"
      }
    },
    {
      "cell_type": "markdown",
      "source": [
        "## Content and Dataset\n",
        "Here in this notebook, we aim to use PIC counting to construct a peak-by-cell matrix with the uniform preprocessing step in PIC. We use the PBMC-3k data that are publicly available in the 10X Genomics website \n",
        "\n",
        "[10X Genomics Dataset](https://www.10xgenomics.com/resources/datasets)\n",
        "\n",
        "## Step 1. Install packages"
      ],
      "metadata": {
        "id": "nwjQ7jT1Dc9l"
      }
    },
    {
      "cell_type": "code",
      "execution_count": 1,
      "metadata": {
        "colab": {
          "base_uri": "https://localhost:8080/"
        },
        "id": "x1PWKmmMC0ob",
        "outputId": "546d0fca-1848-41fd-c99c-878ec59cf815"
      },
      "outputs": [
        {
          "output_type": "stream",
          "name": "stderr",
          "text": [
            "Installing package into ‘/usr/local/lib/R/site-library’\n",
            "(as ‘lib’ is unspecified)\n",
            "\n",
            "also installing the dependencies ‘Rcpp’, ‘httpuv’, ‘xtable’, ‘sourcetools’, ‘later’, ‘promises’, ‘textshaping’, ‘shiny’, ‘downlit’, ‘ragg’, ‘htmlwidgets’, ‘miniUI’, ‘pkgdown’, ‘profvis’, ‘urlchecker’\n",
            "\n",
            "\n",
            "Warning message in install.packages(\"devtools\"):\n",
            "“installation of package ‘textshaping’ had non-zero exit status”\n",
            "Warning message in install.packages(\"devtools\"):\n",
            "“installation of package ‘ragg’ had non-zero exit status”\n",
            "Warning message in install.packages(\"devtools\"):\n",
            "“installation of package ‘pkgdown’ had non-zero exit status”\n",
            "Warning message in install.packages(\"devtools\"):\n",
            "“installation of package ‘devtools’ had non-zero exit status”\n",
            "Installing package into ‘/usr/local/lib/R/site-library’\n",
            "(as ‘lib’ is unspecified)\n",
            "\n",
            "Installing package into ‘/usr/local/lib/R/site-library’\n",
            "(as ‘lib’ is unspecified)\n",
            "\n",
            "'getOption(\"repos\")' replaces Bioconductor standard repositories, see\n",
            "'help(\"repositories\", package = \"BiocManager\")' for details.\n",
            "Replacement repositories:\n",
            "    CRAN: https://cran.rstudio.com\n",
            "\n",
            "Bioconductor version 3.17 (BiocManager 1.30.20), R 4.3.0 (2023-04-21)\n",
            "\n",
            "Installing package(s) 'BiocVersion', 'GenomeInfoDb', 'Rsamtools', 'IRanges'\n",
            "\n",
            "also installing the dependencies ‘formatR’, ‘lambda.r’, ‘futile.options’, ‘futile.logger’, ‘snow’, ‘BH’, ‘BiocGenerics’, ‘S4Vectors’, ‘RCurl’, ‘GenomeInfoDbData’, ‘GenomicRanges’, ‘Biostrings’, ‘XVector’, ‘zlibbioc’, ‘bitops’, ‘BiocParallel’, ‘Rhtslib’\n",
            "\n",
            "\n",
            "Old packages: 'bit', 'bslib', 'devtools', 'digest', 'gert', 'highr', 'isoband',\n",
            "  'jsonlite', 'knitr', 'pkgload', 'roxygen2', 'sys', 'tidyverse', 'whisker',\n",
            "  'boot', 'foreign'\n",
            "\n",
            "Downloading GitHub repo Zhen-Miao/PIC-snATAC@HEAD\n",
            "\n"
          ]
        },
        {
          "output_type": "stream",
          "name": "stdout",
          "text": [
            "\n"
          ]
        },
        {
          "output_type": "stream",
          "name": "stderr",
          "text": [
            "Skipping 4 packages not available: GenomeInfoDb, Rsamtools, GenomicRanges, IRanges\n",
            "\n"
          ]
        },
        {
          "output_type": "stream",
          "name": "stdout",
          "text": [
            "\u001b[36m──\u001b[39m \u001b[36mR CMD build\u001b[39m \u001b[36m─────────────────────────────────────────────────────────────────\u001b[39m\n",
            "* checking for file ‘/tmp/RtmpknFoFP/remotes779ab34e99/Zhen-Miao-PIC-snATAC-dc73a1d/DESCRIPTION’ ... OK\n",
            "* preparing ‘PICsnATAC’:\n",
            "* checking DESCRIPTION meta-information ... OK\n",
            "* checking for LF line-endings in source and make files and shell scripts\n",
            "* checking for empty or unneeded directories\n",
            "* building ‘PICsnATAC_0.2.1.tar.gz’\n",
            "\n"
          ]
        },
        {
          "output_type": "stream",
          "name": "stderr",
          "text": [
            "Installing package into ‘/usr/local/lib/R/site-library’\n",
            "(as ‘lib’ is unspecified)\n",
            "\n"
          ]
        }
      ],
      "source": [
        "install.packages('devtools')\n",
        "install.packages('data.table') ## (please make sure it is newer than 1.8)\n",
        "if (!require(\"BiocManager\", quietly = TRUE))\n",
        "    install.packages(\"BiocManager\")\n",
        "BiocManager::install(c(\"GenomeInfoDb\",\"Rsamtools\",\"IRanges\"))\n",
        "devtools::install_github(\"Zhen-Miao/PIC-snATAC\")"
      ]
    },
    {
      "cell_type": "code",
      "source": [
        "## install additional libraries\n",
        "install.packages('R.utils')"
      ],
      "metadata": {
        "colab": {
          "base_uri": "https://localhost:8080/"
        },
        "id": "ijtXhJ2YLva1",
        "outputId": "17492be6-a532-4c8f-9297-ae16dd915f38"
      },
      "execution_count": 13,
      "outputs": [
        {
          "output_type": "stream",
          "name": "stderr",
          "text": [
            "Installing package into ‘/usr/local/lib/R/site-library’\n",
            "(as ‘lib’ is unspecified)\n",
            "\n",
            "also installing the dependencies ‘R.oo’, ‘R.methodsS3’\n",
            "\n",
            "\n"
          ]
        }
      ]
    },
    {
      "cell_type": "markdown",
      "source": [
        "## Step 2. Load required libraries\n"
      ],
      "metadata": {
        "id": "rTz8P_HgHAbJ"
      }
    },
    {
      "cell_type": "code",
      "source": [
        "library('data.table')\n",
        "library('GenomicRanges')\n",
        "library('Matrix')\n",
        "library('PICsnATAC')"
      ],
      "metadata": {
        "colab": {
          "base_uri": "https://localhost:8080/"
        },
        "id": "5o_Pl6Y3G_Bi",
        "outputId": "ff5be911-9061-4419-849d-0e14335c1798"
      },
      "execution_count": 2,
      "outputs": [
        {
          "output_type": "stream",
          "name": "stderr",
          "text": [
            "Loading required package: stats4\n",
            "\n",
            "Loading required package: BiocGenerics\n",
            "\n",
            "\n",
            "Attaching package: ‘BiocGenerics’\n",
            "\n",
            "\n",
            "The following objects are masked from ‘package:stats’:\n",
            "\n",
            "    IQR, mad, sd, var, xtabs\n",
            "\n",
            "\n",
            "The following objects are masked from ‘package:base’:\n",
            "\n",
            "    anyDuplicated, aperm, append, as.data.frame, basename, cbind,\n",
            "    colnames, dirname, do.call, duplicated, eval, evalq, Filter, Find,\n",
            "    get, grep, grepl, intersect, is.unsorted, lapply, Map, mapply,\n",
            "    match, mget, order, paste, pmax, pmax.int, pmin, pmin.int,\n",
            "    Position, rank, rbind, Reduce, rownames, sapply, setdiff, sort,\n",
            "    table, tapply, union, unique, unsplit, which.max, which.min\n",
            "\n",
            "\n",
            "Loading required package: S4Vectors\n",
            "\n",
            "\n",
            "Attaching package: ‘S4Vectors’\n",
            "\n",
            "\n",
            "The following objects are masked from ‘package:data.table’:\n",
            "\n",
            "    first, second\n",
            "\n",
            "\n",
            "The following object is masked from ‘package:utils’:\n",
            "\n",
            "    findMatches\n",
            "\n",
            "\n",
            "The following objects are masked from ‘package:base’:\n",
            "\n",
            "    expand.grid, I, unname\n",
            "\n",
            "\n",
            "Loading required package: IRanges\n",
            "\n",
            "\n",
            "Attaching package: ‘IRanges’\n",
            "\n",
            "\n",
            "The following object is masked from ‘package:data.table’:\n",
            "\n",
            "    shift\n",
            "\n",
            "\n",
            "Loading required package: GenomeInfoDb\n",
            "\n",
            "\n",
            "Attaching package: ‘Matrix’\n",
            "\n",
            "\n",
            "The following object is masked from ‘package:S4Vectors’:\n",
            "\n",
            "    expand\n",
            "\n",
            "\n",
            "Warning message:\n",
            "“replacing previous import ‘GenomicRanges::intersect’ by ‘dplyr::intersect’ when loading ‘PICsnATAC’”\n",
            "Warning message:\n",
            "“replacing previous import ‘GenomicRanges::union’ by ‘dplyr::union’ when loading ‘PICsnATAC’”\n",
            "Warning message:\n",
            "“replacing previous import ‘GenomicRanges::setdiff’ by ‘dplyr::setdiff’ when loading ‘PICsnATAC’”\n"
          ]
        }
      ]
    },
    {
      "cell_type": "markdown",
      "source": [
        "## Step 3. Prepare for input files\n",
        "We will need to following input from Cell Ranger output:\n",
        "\n",
        "\n",
        "*   cell barcodes with metadata (`singlecell.csv`)\n",
        "*   list of peak regions (`peaks.bed`)\n",
        "*  fragment files (`fragment.tsv.gz`)\n",
        "\n",
        "\n",
        "\n",
        "\n"
      ],
      "metadata": {
        "id": "91rAjNMXHPds"
      }
    },
    {
      "cell_type": "code",
      "source": [
        "## read cell metadata\n",
        "meta.data <- read.csv('/content/pbmc_unsorted_3k_per_barcode_metrics.csv', header = T )\n",
        "# -- in your own Cell Ranger output, the file name will be 'singlecell.csv'\n",
        "# or 'per_barcode_metrics.csv'\n",
        "meta.data_filtered <- meta.data[meta.data$is_cell == 1,]\n",
        "cells <- meta.data_filtered$barcode"
      ],
      "metadata": {
        "id": "EaDKMPmKI7L5"
      },
      "execution_count": 15,
      "outputs": []
    },
    {
      "cell_type": "code",
      "source": [
        "print(head(cells))"
      ],
      "metadata": {
        "colab": {
          "base_uri": "https://localhost:8080/"
        },
        "id": "3VlaZPbxJyxM",
        "outputId": "dc2a4d68-876a-4c5d-b9ec-10a8ddaaed4e"
      },
      "execution_count": 16,
      "outputs": [
        {
          "output_type": "stream",
          "name": "stdout",
          "text": [
            "[1] \"AAACAGCCAACAGGTG-1\" \"AAACATGCAACAACAA-1\" \"AAACATGCACCTGGTG-1\"\n",
            "[4] \"AAACCAACACAGCCTG-1\" \"AAACCAACAGCAAGAT-1\" \"AAACCAACATTGCGAC-1\"\n"
          ]
        }
      ]
    },
    {
      "cell_type": "code",
      "source": [
        "## load the list of peaks\n",
        "peaks <- data.table::fread('/content/pbmc_unsorted_3k_atac_peaks.bed',header = F)\n",
        "# -- in your own Cell Ranger output, the file name will be 'peaks.bed'\n",
        "colnames(peaks) <- c('seqname', 'start', 'end')\n",
        "peak_sets = GenomicRanges::makeGRangesFromDataFrame(peaks)"
      ],
      "metadata": {
        "id": "E87WYGGjJw2O"
      },
      "execution_count": 6,
      "outputs": []
    },
    {
      "cell_type": "code",
      "source": [
        "print(peak_sets)"
      ],
      "metadata": {
        "colab": {
          "base_uri": "https://localhost:8080/"
        },
        "id": "D5GmzLMdJ_bk",
        "outputId": "372b839a-f007-4725-f621-7ceae5caf4e4"
      },
      "execution_count": 8,
      "outputs": [
        {
          "output_type": "stream",
          "name": "stdout",
          "text": [
            "GRanges object with 81156 ranges and 0 metadata columns:\n",
            "            seqnames        ranges strand\n",
            "               <Rle>     <IRanges>  <Rle>\n",
            "      [1]       chr1    9782-10672      *\n",
            "      [2]       chr1 180547-181446      *\n",
            "      [3]       chr1 191121-191998      *\n",
            "      [4]       chr1 267553-268447      *\n",
            "      [5]       chr1 270906-271782      *\n",
            "      ...        ...           ...    ...\n",
            "  [81152] KI270711.1   22605-23472      *\n",
            "  [81153] KI270713.1     3924-4839      *\n",
            "  [81154] KI270713.1   21448-22354      *\n",
            "  [81155] KI270713.1   26202-26986      *\n",
            "  [81156] KI270713.1   36937-37838      *\n",
            "  -------\n",
            "  seqinfo: 37 sequences from an unspecified genome; no seqlengths\n"
          ]
        }
      ]
    },
    {
      "cell_type": "markdown",
      "source": [
        "The peaks directly from Cell Ranger output are usually wider, so people can alternatively use MACS2 to call peaks and use the new peak set. "
      ],
      "metadata": {
        "id": "NTSf68RQKLjB"
      }
    },
    {
      "cell_type": "code",
      "source": [
        "library('ggplot2')\n",
        "pwidth = as.integer(peaks$end) - as.integer(peaks$start)\n",
        "df = data.frame(peak_width = pwidth)\n",
        "ggplot(data = df, aes(x = peak_width))+\n",
        "  geom_density()+\n",
        "  theme_classic()"
      ],
      "metadata": {
        "colab": {
          "base_uri": "https://localhost:8080/",
          "height": 437
        },
        "id": "1w3DZPLSKK-B",
        "outputId": "beaaf154-58f4-4289-dc39-193992c36de0"
      },
      "execution_count": 10,
      "outputs": [
        {
          "output_type": "display_data",
          "data": {
            "text/plain": [
              "plot without title"
            ],
            "image/png": "[encoded data removed]"
          },
          "metadata": {
            "image/png": {
              "width": 420,
              "height": 420
            }
          }
        }
      ]
    },
    {
      "cell_type": "markdown",
      "source": [
        "We can see most of the peaks are between ~600 bp and 1000 bp. Much longer than the usual peak width in MACS2 narrow-peak setting. "
      ],
      "metadata": {
        "id": "nUjMuPhOLAef"
      }
    },
    {
      "cell_type": "code",
      "source": [
        "## fragment files\n",
        "fragment_tsv_gz_file_location <- '/content/pbmc_unsorted_3k_atac_fragments.tsv.gz'"
      ],
      "metadata": {
        "id": "k3I13tYRLRnc"
      },
      "execution_count": 11,
      "outputs": []
    },
    {
      "cell_type": "markdown",
      "source": [
        "## Step 4. Run PIC counting module and save output\n",
        "Based on the number of cells processed, this may take a while. It is recommended that this step to run in computing clusters. There will be a progress bar for the computing "
      ],
      "metadata": {
        "id": "lI4miULgLbvw"
      }
    },
    {
      "cell_type": "code",
      "source": [
        "pic_mat <- PIC_counting(\n",
        "  cells = cells,\n",
        "  fragment_tsv_gz_file_location = fragment_tsv_gz_file_location,\n",
        "  peak_sets = peak_sets)"
      ],
      "metadata": {
        "colab": {
          "base_uri": "https://localhost:8080/"
        },
        "id": "ScqlCBspLmzd",
        "outputId": "c052f0e3-3af3-4390-a112-8305e766e243"
      },
      "execution_count": null,
      "outputs": [
        {
          "output_type": "stream",
          "name": "stdout",
          "text": [
            "[1] \"all fragment data loaded\"\n",
            "[1] \"computing peak vector for each cell\"\n",
            "========================================"
          ]
        }
      ]
    },
    {
      "cell_type": "code",
      "source": [
        "## If the fragment file is large and preprocessing is run locally,\n",
        "## it is recommended to use Rsamtools to reduce RAM usage. \n",
        "## This is easy with PIC function, Here are examples\n",
        "pic_mat <- PIC_counting(\n",
        "  cells = cells,\n",
        "  fragment_tsv_gz_file_location = fragment_tsv_gz_file_location,\n",
        "  peak_sets = peak_sets,\n",
        "  load_full = F)"
      ],
      "metadata": {
        "id": "uPcZ8WuINpJ4"
      },
      "execution_count": null,
      "outputs": []
    },
    {
      "cell_type": "markdown",
      "source": [
        "We can save the output as an .rds file for future use. This matrix can be directly loaded in Seurat or ArchR and common downstream analyses can be conducted with these pipelines. "
      ],
      "metadata": {
        "id": "RX919krlMFjS"
      }
    },
    {
      "cell_type": "code",
      "source": [
        "saveRDS(pic_mat, 'PIC_mat_pbmc_3k.rds')"
      ],
      "metadata": {
        "id": "auvmzqUiL_TD"
      },
      "execution_count": null,
      "outputs": []
    },
    {
      "cell_type": "markdown",
      "source": [
        "## Reference\n",
        "For this worksheet, we used the 10X Genomics multiome public data.\n",
        "\n",
        "If you used PIC-snATAC counting in your analysis, please cite our manuscript:\n",
        "\n",
        "Miao Z, Kim J. Is single nucleus ATAC-seq accessibility a qualitative or quantitative measurement?. bioRxiv. 2022."
      ],
      "metadata": {
        "id": "mzsU-f8hMsd1"
      }
    }
  ]
}