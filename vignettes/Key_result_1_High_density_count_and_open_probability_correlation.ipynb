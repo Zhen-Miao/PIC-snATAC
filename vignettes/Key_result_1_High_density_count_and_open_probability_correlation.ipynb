{
  "nbformat": 4,
  "nbformat_minor": 0,
  "metadata": {
    "colab": {
      "provenance": [],
      "toc_visible": true,
      "authorship_tag": "ABX9TyOxuXzhad4hX7isu7QR2DVd",
      "include_colab_link": true
    },
    "kernelspec": {
      "name": "ir",
      "display_name": "R"
    },
    "language_info": {
      "name": "R"
    }
  },
  "cells": [
    {
      "cell_type": "markdown",
      "metadata": {
        "id": "view-in-github",
        "colab_type": "text"
      },
      "source": [
        "<a href=\"https://colab.research.google.com/github/Zhen-Miao/PIC-snATAC/blob/main/vignettes/Key_result_1_High_density_count_and_open_probability_correlation.ipynb\" target=\"_parent\"><img src=\"https://colab.research.google.com/assets/colab-badge.svg\" alt=\"Open In Colab\"/></a>"
      ]
    },
    {
      "cell_type": "markdown",
      "source": [
        "# Key results 1: High-density count and open probability correlation"
      ],
      "metadata": {
        "id": "94kciBpILhPS"
      }
    },
    {
      "cell_type": "markdown",
      "source": [
        "## Content and Datasets\n",
        "In this notebook, we aim to reproduce the results on examining the correlation between high-density count and open probability. We will use the human cell line mixture data from (Granja et al., Nature Genetics 2021) publication. The data are publicly available under GEO accession number [GSE162690](https://www.ncbi.nlm.nih.gov/geo/query/acc.cgi?acc=GSE162690). Specifically, please download the following file and upload it to this worksheet to run the analysis\n",
        "\n",
        "```\n",
        "GSE162690_CellLine_LowLoading-PeakMatrix-SE.rds.gz\n",
        "```\n",
        "\n"
      ],
      "metadata": {
        "id": "RWoauSy8LtmW"
      }
    },
    {
      "cell_type": "markdown",
      "source": [
        "## 1. Install packages"
      ],
      "metadata": {
        "id": "cI86uaUg5YB0"
      }
    },
    {
      "cell_type": "code",
      "execution_count": null,
      "metadata": {
        "colab": {
          "base_uri": "https://localhost:8080/"
        },
        "id": "4yhnPPxLJ6hz",
        "outputId": "9b1a8f31-cf6c-4f29-ad48-62a5db421496"
      },
      "outputs": [
        {
          "output_type": "stream",
          "name": "stderr",
          "text": [
            "Installing packages into ‘/usr/local/lib/R/site-library’\n",
            "(as ‘lib’ is unspecified)\n",
            "\n",
            "also installing the dependencies ‘plyr’, ‘Rcpp’\n",
            "\n",
            "\n"
          ]
        }
      ],
      "source": [
        "install.packages(c('viridisLite','ggplot2','RColorBrewer','dplyr','reshape2'))"
      ]
    },
    {
      "cell_type": "code",
      "source": [
        "install.packages('data.table')\n",
        "if (!require(\"BiocManager\", quietly = TRUE))\n",
        "    install.packages(\"BiocManager\")\n",
        "BiocManager::install(\"SummarizedExperiment\")\n",
        "devtools::install_github(\"Zhen-Miao/PIC-snATAC\")"
      ],
      "metadata": {
        "colab": {
          "base_uri": "https://localhost:8080/"
        },
        "id": "Tl-Q_aekLF7m",
        "outputId": "5d467240-19b0-4a84-9b79-59f09d6de413"
      },
      "execution_count": null,
      "outputs": [
        {
          "output_type": "stream",
          "name": "stderr",
          "text": [
            "Installing package into ‘/usr/local/lib/R/site-library’\n",
            "(as ‘lib’ is unspecified)\n",
            "\n",
            "Installing package into ‘/usr/local/lib/R/site-library’\n",
            "(as ‘lib’ is unspecified)\n",
            "\n",
            "'getOption(\"repos\")' replaces Bioconductor standard repositories, see\n",
            "'help(\"repositories\", package = \"BiocManager\")' for details.\n",
            "Replacement repositories:\n",
            "    CRAN: https://cran.rstudio.com\n",
            "\n",
            "Bioconductor version 3.17 (BiocManager 1.30.20), R 4.3.0 (2023-04-21)\n",
            "\n",
            "Installing package(s) 'BiocVersion', 'SummarizedExperiment'\n",
            "\n",
            "also installing the dependencies ‘zlibbioc’, ‘bitops’, ‘matrixStats’, ‘XVector’, ‘RCurl’, ‘GenomeInfoDbData’, ‘MatrixGenerics’, ‘GenomicRanges’, ‘Biobase’, ‘BiocGenerics’, ‘S4Vectors’, ‘IRanges’, ‘GenomeInfoDb’, ‘S4Arrays’, ‘DelayedArray’\n",
            "\n",
            "\n",
            "Old packages: 'bit', 'bslib', 'devtools', 'digest', 'gert', 'highr', 'isoband',\n",
            "  'jsonlite', 'knitr', 'pkgload', 'rmarkdown', 'roxygen2', 'sys', 'tidyverse',\n",
            "  'whisker', 'boot', 'foreign'\n",
            "\n",
            "Downloading GitHub repo Zhen-Miao/PIC-snATAC@HEAD\n",
            "\n"
          ]
        },
        {
          "output_type": "stream",
          "name": "stdout",
          "text": [
            "\n"
          ]
        },
        {
          "output_type": "stream",
          "name": "stderr",
          "text": [
            "Skipping 4 packages not available: GenomeInfoDb, Rsamtools, GenomicRanges, IRanges\n",
            "\n"
          ]
        },
        {
          "output_type": "stream",
          "name": "stdout",
          "text": [
            "\u001b[36m──\u001b[39m \u001b[36mR CMD build\u001b[39m \u001b[36m─────────────────────────────────────────────────────────────────\u001b[39m\n",
            "* checking for file ‘/tmp/RtmpiFsOFG/remotes17937fa0307/Zhen-Miao-PIC-snATAC-b0f6fdc/DESCRIPTION’ ... OK\n",
            "* preparing ‘PICsnATAC’:\n",
            "* checking DESCRIPTION meta-information ... OK\n",
            "* checking for LF line-endings in source and make files and shell scripts\n",
            "* checking for empty or unneeded directories\n",
            "* building ‘PICsnATAC_0.2.1.tar.gz’\n",
            "\n"
          ]
        },
        {
          "output_type": "stream",
          "name": "stderr",
          "text": [
            "Installing package into ‘/usr/local/lib/R/site-library’\n",
            "(as ‘lib’ is unspecified)\n",
            "\n",
            "Warning message in i.p(...):\n",
            "“installation of package ‘/tmp/RtmpiFsOFG/file1791f3c0788/PICsnATAC_0.2.1.tar.gz’ had non-zero exit status”\n"
          ]
        }
      ]
    },
    {
      "cell_type": "markdown",
      "source": [
        "## 2. Load packages"
      ],
      "metadata": {
        "id": "wrDbeTnq5nSs"
      }
    },
    {
      "cell_type": "code",
      "source": [
        "library('SummarizedExperiment')\n",
        "library('viridisLite')\n",
        "library('ggplot2')\n",
        "library(\"RColorBrewer\")"
      ],
      "metadata": {
        "id": "POynpqJzRM2Q"
      },
      "execution_count": null,
      "outputs": []
    },
    {
      "cell_type": "markdown",
      "source": [
        "## 3. Load data and conduct basic check"
      ],
      "metadata": {
        "id": "1m1NcYXy5rMK"
      }
    },
    {
      "cell_type": "markdown",
      "source": [
        "The human cell line dataset is saved as a SummarizedExperiment object, let us first load it via readRDS() function\n"
      ],
      "metadata": {
        "id": "Ve0ZOi-RmHJ2"
      }
    },
    {
      "cell_type": "code",
      "source": [
        "low = readRDS('GSE162690_CellLine_LowLoading-PeakMatrix-SE.rds')"
      ],
      "metadata": {
        "id": "spqwm2L05UO7"
      },
      "execution_count": null,
      "outputs": []
    },
    {
      "cell_type": "markdown",
      "source": [
        "The cell types are stored in @colData. We need to exclude ambigious clusters (AMB) and doublets (DBL), and we will only examine the ten major cell types"
      ],
      "metadata": {
        "id": "RvpPlULS5ywp"
      }
    },
    {
      "cell_type": "code",
      "source": [
        "cell_types = low@colData$DemuxletClassify2\n",
        "print(table(cell_types))"
      ],
      "metadata": {
        "colab": {
          "base_uri": "https://localhost:8080/"
        },
        "id": "4xllxLcVRUyu",
        "outputId": "32bd2500-395c-467d-f2b4-e6426d9f6c4b"
      },
      "execution_count": null,
      "outputs": [
        {
          "output_type": "stream",
          "name": "stdout",
          "text": [
            "cell_types\n",
            "   293T     AMB     DBL GM12878    HeLa  HT1080  Jurkat    K562  MCF10A    MCF7 \n",
            "   2160       5     336    1293     696     946     762     462     534     712 \n",
            "    T24    THP1 \n",
            "   2966     301 \n"
          ]
        }
      ]
    },
    {
      "cell_type": "code",
      "source": [
        "## cell types to be included in the study\n",
        "ctypes = unique(low@colData$DemuxletClassify2)\n",
        "ctypes = setdiff(ctypes, c('DBL', 'AMB'))"
      ],
      "metadata": {
        "id": "FoTcU9J6SS83"
      },
      "execution_count": null,
      "outputs": []
    },
    {
      "cell_type": "markdown",
      "source": [
        "The peak-by-cell ***insertion*** count matrix can be obtained using the following command"
      ],
      "metadata": {
        "id": "0u2xA2c6mkoo"
      }
    },
    {
      "cell_type": "code",
      "source": [
        "str(low@assays$data@listData$PeakMatrix)"
      ],
      "metadata": {
        "colab": {
          "base_uri": "https://localhost:8080/"
        },
        "id": "LMoPPv0R8zzm",
        "outputId": "200f9b6c-7013-4407-85cb-c7b6480f6443"
      },
      "execution_count": null,
      "outputs": [
        {
          "output_type": "stream",
          "name": "stdout",
          "text": [
            "Formal class 'dgCMatrix' [package \"Matrix\"] with 6 slots\n",
            "  ..@ i       : int [1:44837096] 23 55 79 82 85 89 98 101 102 110 ...\n",
            "  ..@ p       : int [1:11174] 0 19679 39075 61829 84103 100338 121198 138736 147797 169273 ...\n",
            "  ..@ Dim     : int [1:2] 336098 11173\n",
            "  ..@ Dimnames:List of 2\n",
            "  .. ..$ : NULL\n",
            "  .. ..$ : chr [1:11173] \"CellLine_Low#CTAGGGCAGGTTTCTG-1\" \"CellLine_Low#GCTCGAGGTCTAACCA-1\" \"CellLine_Low#CCAGAATCACGCGCAT-1\" \"CellLine_Low#GTCACTCAGGGCATTG-1\" ...\n",
            "  ..@ x       : num [1:44837096] 2 1 1 1 1 2 1 1 2 2 ...\n",
            "  ..@ factors : list()\n"
          ]
        }
      ]
    },
    {
      "cell_type": "markdown",
      "source": [
        "We can take a look at the count frequency. There are more '2's in the data than the frequency of '1', a hallmark of insertion-based counting method. The maximum count was capped at 4 in this matrix by the ArchR method. We note that such a ceiling step does not affect our analysis."
      ],
      "metadata": {
        "id": "Bvfs0Sjim4Bz"
      }
    },
    {
      "cell_type": "code",
      "source": [
        "count_freq = table(low@assays$data@listData$PeakMatrix@x)\n",
        "\n",
        "print(count_freq)"
      ],
      "metadata": {
        "colab": {
          "base_uri": "https://localhost:8080/"
        },
        "id": "7bG79bwz83EX",
        "outputId": "cba4bc68-bbc7-4dff-a290-53767a8b9a8f"
      },
      "execution_count": null,
      "outputs": [
        {
          "output_type": "stream",
          "name": "stdout",
          "text": [
            "\n",
            "       1        2        3        4 \n",
            "17702639 24946650  1142081  1045726 \n"
          ]
        }
      ]
    },
    {
      "cell_type": "code",
      "source": [
        "cf = as.data.frame(count_freq)\n",
        "ggplot(cf)+\n",
        "  geom_col(aes(x = Var1, y = Freq))+\n",
        "  xlab('Count')+ggtitle('Human cell line data count frequency')+\n",
        "  theme_classic()"
      ],
      "metadata": {
        "colab": {
          "base_uri": "https://localhost:8080/",
          "height": 437
        },
        "id": "QA06F1rS9fL5",
        "outputId": "3460bb20-0e9c-4338-f8a7-46d428b1571d"
      },
      "execution_count": null,
      "outputs": [
        {
          "output_type": "display_data",
          "data": {
            "text/plain": [
              "plot without title"
            ],
            "image/png": "[encoded data removed]"
          },
          "metadata": {
            "image/png": {
              "width": 420,
              "height": 420
            }
          }
        }
      ]
    },
    {
      "cell_type": "markdown",
      "source": [
        "## Question 1. Is there quantitative information in snATAC-seq data?\n",
        "To answer this question, we first check at the **fragment** level, whether observing two fragments in a single cell indicates overall higher chance of accessibility for the same cell type (cell line). Since the counts 2 and 1 mainly represent the boundary phasing issue, we estimated the probability of observing a count greater than or equal to 3, given the observation of a non-zero count, ![image.png](data:image/png;base64,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) (For more details, please read our manuscript)"
      ],
      "metadata": {
        "id": "mQnsoe_JnPfh"
      }
    },
    {
      "cell_type": "code",
      "source": [
        "## obtain data matrix \n",
        "pmat_cell_line <- low@assays$data@listData$PeakMatrix\n",
        "\n",
        "## binarize and save as a different object\n",
        "pmat_cell_linebin <- pmat_cell_line\n",
        "pmat_cell_linebin@x <- rep(1, times = length(pmat_cell_linebin@x))\n"
      ],
      "metadata": {
        "id": "Z6UVLDQESeuY"
      },
      "execution_count": null,
      "outputs": []
    },
    {
      "cell_type": "code",
      "source": [
        "pmat_cell_line@x[pmat_cell_line@x <= 2] = 1\n",
        "pmat_cell_line@x[pmat_cell_line@x >= 3] = 2\n",
        "\n",
        "## proportion_counts_more_than_1 stands for the proportion of counts \n",
        "## that are greater than one fragment (two insertions)\n",
        "proportion_counts_more_than_1 <- matrix(nrow = dim(pmat_cell_line)[1], ncol = length(ctypes))\n",
        "colnames(proportion_counts_more_than_1) <- ctypes\n",
        "\n",
        "## n_cell_acc_prop stands for the number of cells being acessible\n",
        "n_cell_acc_prop <- proportion_counts_more_than_1 \n"
      ],
      "metadata": {
        "id": "9Bt5D6-2TqBE"
      },
      "execution_count": null,
      "outputs": []
    },
    {
      "cell_type": "code",
      "source": [
        "## compute several quantities\n",
        "for(jj in ctypes){\n",
        "  pmat_cell_line1 = pmat_cell_line[,low@colData$DemuxletClassify2 == jj]\n",
        "  pmat_cell_linebin1 = pmat_cell_linebin[,low@colData$DemuxletClassify2 == jj]\n",
        "  \n",
        "  n_cell_acc <- Matrix::rowSums(pmat_cell_linebin1)\n",
        "  n_counts_more_than_1 <- Matrix::rowSums(pmat_cell_line1) - n_cell_acc\n",
        "  proportion_counts_more_than_1[,jj] <- n_counts_more_than_1 / n_cell_acc\n",
        "  n_cell_acc_prop[,jj] <- n_cell_acc / dim(pmat_cell_line1)[2]\n",
        "}"
      ],
      "metadata": {
        "id": "1i8AyOOHTynS"
      },
      "execution_count": null,
      "outputs": []
    },
    {
      "cell_type": "markdown",
      "source": [
        "The Spearman correlation was computed between the open probability and frequency of counts greater than three."
      ],
      "metadata": {
        "id": "9QKZ_Mec_K28"
      }
    },
    {
      "cell_type": "code",
      "source": [
        "defaultW <- getOption(\"warn\") \n",
        "options(warn = -1) \n",
        "corr_across_features <- vector(length = dim(pmat_cell_line)[1])\n",
        "for(i in 1:dim(pmat_cell_line)[1]){\n",
        "  corr_across_features[i] = cor(n_cell_acc_prop[i,], proportion_counts_more_than_1[i,],\n",
        "                                method = 'spearman')\n",
        "}\n",
        "\n",
        "options(warn = defaultW)"
      ],
      "metadata": {
        "id": "aQDoxLFUT1eA"
      },
      "execution_count": null,
      "outputs": []
    },
    {
      "cell_type": "markdown",
      "source": [
        "We then look at the median correlation and the number of positive and negative correlations"
      ],
      "metadata": {
        "id": "T48DAtkK_SEG"
      }
    },
    {
      "cell_type": "code",
      "source": [
        "print(quantile(corr_across_features,na.rm = T))"
      ],
      "metadata": {
        "colab": {
          "base_uri": "https://localhost:8080/"
        },
        "id": "23-Vt8u0UoH0",
        "outputId": "ac5457c4-cdbd-463f-e897-283f6f081202"
      },
      "execution_count": null,
      "outputs": [
        {
          "output_type": "stream",
          "name": "stdout",
          "text": [
            "        0%        25%        50%        75%       100% \n",
            "-0.7294867  0.3742613  0.5276493  0.7006490  0.9969651 \n"
          ]
        }
      ]
    },
    {
      "cell_type": "code",
      "source": [
        "print(sum(corr_across_features < 0 , na.rm = T))\n",
        "print(sum(corr_across_features > 0 , na.rm = T)) "
      ],
      "metadata": {
        "colab": {
          "base_uri": "https://localhost:8080/"
        },
        "id": "Jn5dS4bmU4YC",
        "outputId": "3ae68baf-2dec-40b7-8cab-9e3887d41a89"
      },
      "execution_count": null,
      "outputs": [
        {
          "output_type": "stream",
          "name": "stdout",
          "text": [
            "[1] 2535\n",
            "[1] 53169\n"
          ]
        }
      ]
    },
    {
      "cell_type": "markdown",
      "source": [
        "We then plot the distribution of correlation values. \n",
        "\n"
      ],
      "metadata": {
        "id": "x_HT-kGX_sK2"
      }
    },
    {
      "cell_type": "code",
      "source": [
        "library('ggplot2')\n",
        "df = data.frame(corr = corr_across_features)\n",
        "\n",
        "p1 = ggplot(df, aes(x = corr)) + \n",
        "  geom_histogram(bins = 20, color='black', fill=\"#8491b4\") + \n",
        "  xlim(-1,1)+\n",
        "  # scale_x_discrete(drop = FALSE, limits = c(-1,1))+\n",
        "  ggtitle(\"Correlation ( p, freq(y>=3|y>0) )\",subtitle = 'Human cell line data') +\n",
        "  xlab(\"Spearman Correlation\") +\n",
        "  ylab('Frequency')+\n",
        "  theme_classic()\n",
        "\n",
        "plot(p1)\n",
        "\n",
        "## *Note NA values arise because certain peaks have zero proportion of \n",
        "## accessibility, and thus high density proportion cannot be computed. \n",
        "## We will only look at the distribution with no NA values."
      ],
      "metadata": {
        "colab": {
          "base_uri": "https://localhost:8080/",
          "height": 471
        },
        "id": "WLX5CX2MW20w",
        "outputId": "794f5557-e3fb-4744-849e-ecf1cbd89b1b"
      },
      "execution_count": null,
      "outputs": [
        {
          "output_type": "stream",
          "name": "stderr",
          "text": [
            "Warning message:\n",
            "“\u001b[1m\u001b[22mRemoved 280365 rows containing non-finite values (`stat_bin()`).”\n"
          ]
        },
        {
          "output_type": "display_data",
          "data": {
            "text/plain": [
              "plot without title"
            ],
            "image/png": "[encoded data removed]"
          },
          "metadata": {
            "image/png": {
              "width": 420,
              "height": 420
            }
          }
        }
      ]
    },
    {
      "cell_type": "markdown",
      "source": [
        "## results intepretation\n",
        "The above figure implies that for most of the peaks, there is a strong positive correlation between open probability *p* and the frequency of high-density count (>2 fragments or >3 insertions), suggesting that there is quantitative information in single cell accessibility. Please see more discussion in the manuscript. "
      ],
      "metadata": {
        "id": "cequSm5yeuLW"
      }
    },
    {
      "cell_type": "markdown",
      "source": [
        "## Question 2. Whether there is difference between 1 and 2 for insertion-based counting?"
      ],
      "metadata": {
        "id": "7U3kShDjX2Qa"
      }
    },
    {
      "cell_type": "markdown",
      "source": [
        "To examine whether the insertion counts 1 vs 2 contain different information, we followed the same idea as above, computed the probability of observing a count equal to 2 given the count being 1 or 2,\n",
        "![image.png](data:image/png;base64,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) and examined its correlation with open probability."
      ],
      "metadata": {
        "id": "iISQhBawAEu2"
      }
    },
    {
      "cell_type": "code",
      "source": [
        "library('Matrix')\n",
        "pmat_cell_line <- low@assays$data@listData$PeakMatrix\n",
        "\n",
        "## we retain the \n",
        "pmat_cell_line@x[pmat_cell_line@x >= 3] = 0\n",
        "pmat_cell_line = drop0(pmat_cell_line)\n",
        "pmat_cell_linebin <- pmat_cell_line\n",
        "pmat_cell_linebin@x <- rep(1, times = length(pmat_cell_linebin@x))\n"
      ],
      "metadata": {
        "colab": {
          "base_uri": "https://localhost:8080/"
        },
        "id": "hTRlSBt3X1s-",
        "outputId": "1e8e8651-ffec-443c-9bc5-ee0933930b21"
      },
      "execution_count": null,
      "outputs": [
        {
          "output_type": "stream",
          "name": "stderr",
          "text": [
            "\n",
            "Attaching package: ‘Matrix’\n",
            "\n",
            "\n",
            "The following object is masked from ‘package:S4Vectors’:\n",
            "\n",
            "    expand\n",
            "\n",
            "\n"
          ]
        }
      ]
    },
    {
      "cell_type": "code",
      "source": [
        "## compute several quantities\n",
        "for(jj in ctypes){\n",
        "  pmat_cell_line1 = pmat_cell_line[,low@colData$DemuxletClassify2 == jj]\n",
        "  pmat_cell_linebin1 = pmat_cell_linebin[,low@colData$DemuxletClassify2 == jj]\n",
        "  \n",
        "  n_cell_acc <- Matrix::rowSums(pmat_cell_linebin1)\n",
        "  n_counts_more_than_1 <- Matrix::rowSums(pmat_cell_line1) - n_cell_acc\n",
        "  proportion_counts_more_than_1[,jj] <- n_counts_more_than_1 / n_cell_acc\n",
        "  n_cell_acc_prop[,jj] <- n_cell_acc / dim(pmat_cell_line1)[2]\n",
        "}"
      ],
      "metadata": {
        "id": "Zdu6dmOSZYTl"
      },
      "execution_count": null,
      "outputs": []
    },
    {
      "cell_type": "code",
      "source": [
        "defaultW <- getOption(\"warn\") \n",
        "options(warn = -1) \n",
        "corr_across_features <- vector(length = dim(pmat_cell_line)[1])\n",
        "for(i in 1:dim(pmat_cell_line)[1]){\n",
        "  corr_across_features[i] = cor(n_cell_acc_prop[i,], proportion_counts_more_than_1[i,],\n",
        "                                method = 'spearman')\n",
        "}\n",
        "\n",
        "options(warn = defaultW)"
      ],
      "metadata": {
        "id": "do2qtiuNZdO4"
      },
      "execution_count": null,
      "outputs": []
    },
    {
      "cell_type": "markdown",
      "source": [
        "We then look at the median correlation and the number of positive and negative correlations"
      ],
      "metadata": {
        "id": "xfPFUO-VA_Av"
      }
    },
    {
      "cell_type": "code",
      "source": [
        "print(quantile(corr_across_features,na.rm = T))"
      ],
      "metadata": {
        "colab": {
          "base_uri": "https://localhost:8080/"
        },
        "id": "QF1UTs6fZgpC",
        "outputId": "a1737b61-9636-41aa-a702-d56a1fedec92"
      },
      "execution_count": null,
      "outputs": [
        {
          "output_type": "stream",
          "name": "stdout",
          "text": [
            "        0%        25%        50%        75%       100% \n",
            "-0.9604908 -0.2066879  0.0711159  0.3454545  0.9848070 \n"
          ]
        }
      ]
    },
    {
      "cell_type": "code",
      "source": [
        "df2 = data.frame(corr = corr_across_features)\n",
        "\n",
        "p2 = ggplot(df2, aes(x = corr)) + \n",
        "  geom_histogram(bins = 20, color='black', fill=\"#8491b4\") + \n",
        "  xlim(-1,1)+\n",
        "  # scale_x_discrete(drop = FALSE, limits = c(-1,1))+\n",
        "  ggtitle(\"Correlation ( p, freq(y=2|y=1 or 2) )\",subtitle = 'Human cell line data') +\n",
        "  xlab(\"Spearman Correlation\") +\n",
        "  ylab('Frequency')+\n",
        "  theme_classic()\n",
        "\n",
        "plot(p2)\n",
        "\n",
        "## *Note NA values arise because certain peaks have zero proportion of \n",
        "## accessibility, and thus high density proportion cannot be computed. \n",
        "## We will only look at the distribution with no NA values."
      ],
      "metadata": {
        "colab": {
          "base_uri": "https://localhost:8080/",
          "height": 471
        },
        "id": "-BMOEpJgZjGv",
        "outputId": "6adacab0-f631-4011-df18-970a079f6548"
      },
      "execution_count": null,
      "outputs": [
        {
          "output_type": "stream",
          "name": "stderr",
          "text": [
            "Warning message:\n",
            "“\u001b[1m\u001b[22mRemoved 277182 rows containing non-finite values (`stat_bin()`).”\n"
          ]
        },
        {
          "output_type": "display_data",
          "data": {
            "text/plain": [
              "plot without title"
            ],
            "image/png": "[encoded data removed]"
          },
          "metadata": {
            "image/png": {
              "width": 420,
              "height": 420
            }
          }
        }
      ]
    },
    {
      "cell_type": "markdown",
      "source": [
        "## results intepretation\n",
        "The above figure implies that unlike the Q2, it appears that whether we see a higher frequency of 2 vs 1, there is usually not different level of open probability for the cell type. This suggests that we usually could not obtain quantitative information from the insertion counting by distinguishing 1 and 2. Please see more discussion in the manuscript. "
      ],
      "metadata": {
        "id": "BNRCFCKHfbC0"
      }
    }
  ]
}