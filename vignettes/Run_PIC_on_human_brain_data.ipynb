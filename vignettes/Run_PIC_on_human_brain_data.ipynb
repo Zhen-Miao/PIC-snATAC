{
  "nbformat": 4,
  "nbformat_minor": 0,
  "metadata": {
    "colab": {
      "provenance": [],
      "authorship_tag": "ABX9TyP/MFlqPrA69zP3/5YvNjxU",
      "include_colab_link": true
    },
    "kernelspec": {
      "name": "ir",
      "display_name": "R"
    },
    "language_info": {
      "name": "R"
    }
  },
  "cells": [
    {
      "cell_type": "markdown",
      "metadata": {
        "id": "view-in-github",
        "colab_type": "text"
      },
      "source": [
        "<a href=\"https://colab.research.google.com/github/Zhen-Miao/PIC-snATAC/blob/main/vignettes/Run_PIC_on_human_brain_data.ipynb\" target=\"_parent\"><img src=\"https://colab.research.google.com/assets/colab-badge.svg\" alt=\"Open In Colab\"/></a>"
      ]
    },
    {
      "cell_type": "markdown",
      "source": [
        "# Run PIC on human brain data\n"
      ],
      "metadata": {
        "id": "qEOFSFleawbo"
      }
    },
    {
      "cell_type": "markdown",
      "source": [
        "Here in this notebook, we show examples to run PIC test on human brain data. We need to install several packages first"
      ],
      "metadata": {
        "id": "IkCnuZHqa3lL"
      }
    },
    {
      "cell_type": "code",
      "execution_count": null,
      "metadata": {
        "colab": {
          "base_uri": "https://localhost:8080/"
        },
        "id": "_mReHcz8Z42P",
        "outputId": "beaf1377-407b-4980-9e2d-477fadb09e11"
      },
      "outputs": [
        {
          "output_type": "stream",
          "name": "stderr",
          "text": [
            "Installing package into ‘/usr/local/lib/R/site-library’\n",
            "(as ‘lib’ is unspecified)\n",
            "\n",
            "also installing the dependencies ‘Rcpp’, ‘httpuv’, ‘xtable’, ‘sourcetools’, ‘later’, ‘promises’, ‘textshaping’, ‘shiny’, ‘downlit’, ‘ragg’, ‘htmlwidgets’, ‘miniUI’, ‘pkgdown’, ‘profvis’, ‘urlchecker’\n",
            "\n",
            "\n",
            "Warning message in install.packages(\"devtools\"):\n",
            "“installation of package ‘textshaping’ had non-zero exit status”\n",
            "Warning message in install.packages(\"devtools\"):\n",
            "“installation of package ‘ragg’ had non-zero exit status”\n",
            "Warning message in install.packages(\"devtools\"):\n",
            "“installation of package ‘pkgdown’ had non-zero exit status”\n",
            "Warning message in install.packages(\"devtools\"):\n",
            "“installation of package ‘devtools’ had non-zero exit status”\n",
            "Installing package into ‘/usr/local/lib/R/site-library’\n",
            "(as ‘lib’ is unspecified)\n",
            "\n",
            "also installing the dependencies ‘bitops’, ‘gtools’, ‘caTools’, ‘plyr’, ‘tensor’, ‘BH’, ‘sitmo’, ‘globals’, ‘listenv’, ‘parallelly’, ‘zoo’, ‘lazyeval’, ‘crosstalk’, ‘RcppTOML’, ‘here’, ‘gplots’, ‘reshape2’, ‘gridExtra’, ‘RcppArmadillo’, ‘sp’, ‘spatstat.data’, ‘spatstat.random’, ‘spatstat.utils’, ‘spatstat.sparse’, ‘goftest’, ‘abind’, ‘deldir’, ‘polyclip’, ‘FNN’, ‘dqrng’, ‘cowplot’, ‘fitdistrplus’, ‘future’, ‘future.apply’, ‘ggrepel’, ‘ggridges’, ‘ica’, ‘igraph’, ‘irlba’, ‘leiden’, ‘lmtest’, ‘matrixStats’, ‘patchwork’, ‘pbapply’, ‘plotly’, ‘png’, ‘progressr’, ‘RANN’, ‘RcppAnnoy’, ‘reticulate’, ‘ROCR’, ‘Rtsne’, ‘scattermore’, ‘sctransform’, ‘SeuratObject’, ‘spatstat.explore’, ‘spatstat.geom’, ‘uwot’, ‘RcppEigen’, ‘RcppProgress’\n",
            "\n",
            "\n"
          ]
        }
      ],
      "source": [
        "install.packages('devtools')\n",
        "install.packages('Seurat')\n",
        "install.packages('Signac')\n",
        "install.packages('data.table') ## (please make sure it is newer than 1.8)\n",
        "if (!require(\"BiocManager\", quietly = TRUE))\n",
        "    install.packages(\"BiocManager\")"
      ]
    },
    {
      "cell_type": "code",
      "source": [
        "BiocManager::install(c(\"GenomeInfoDb\",\"Rsamtools\",\"IRanges\",\"EnsDb.Hsapiens.v86\"))\n",
        "devtools::install_github(\"Zhen-Miao/PIC-snATAC\")\n",
        "install.packages('Signac')"
      ],
      "metadata": {
        "colab": {
          "base_uri": "https://localhost:8080/"
        },
        "id": "ndDkjQROigzE",
        "outputId": "68f00d12-9b1d-4be5-968d-c12976b122a6"
      },
      "execution_count": null,
      "outputs": [
        {
          "output_type": "stream",
          "name": "stderr",
          "text": [
            "'getOption(\"repos\")' replaces Bioconductor standard repositories, see\n",
            "'help(\"repositories\", package = \"BiocManager\")' for details.\n",
            "Replacement repositories:\n",
            "    CRAN: https://cran.rstudio.com\n",
            "\n",
            "Bioconductor version 3.17 (BiocManager 1.30.20), R 4.3.0 (2023-04-21)\n",
            "\n",
            "Warning message:\n",
            "“package(s) not installed when version(s) same as or greater than current; use\n",
            "  `force = TRUE` to re-install: 'GenomeInfoDb' 'Rsamtools' 'IRanges'\n",
            "  'EnsDb.Hsapiens.v86'”\n",
            "Old packages: 'bit', 'bslib', 'devtools', 'digest', 'gert', 'highr', 'isoband',\n",
            "  'jsonlite', 'knitr', 'pkgload', 'roxygen2', 'sys', 'tidyverse', 'whisker',\n",
            "  'boot', 'foreign'\n",
            "\n",
            "Skipping install of 'PICsnATAC' from a github remote, the SHA1 (af778f0f) has not changed since last install.\n",
            "  Use `force = TRUE` to force installation\n",
            "\n",
            "Installing package into ‘/usr/local/lib/R/site-library’\n",
            "(as ‘lib’ is unspecified)\n",
            "\n"
          ]
        }
      ]
    },
    {
      "cell_type": "code",
      "source": [
        "library('data.table')\n",
        "library('GenomicRanges')\n",
        "library('Matrix')\n",
        "library('PICsnATAC')\n",
        "library('Seurat')\n",
        "library('Signac')\n",
        "library('GenomicRanges')\n",
        "library('EnsDb.Hsapiens.v86')\n"
      ],
      "metadata": {
        "colab": {
          "base_uri": "https://localhost:8080/"
        },
        "id": "pjxAJ9yLiRVM",
        "outputId": "af7126fa-580e-459d-8f74-995bf03886af"
      },
      "execution_count": null,
      "outputs": [
        {
          "output_type": "stream",
          "name": "stderr",
          "text": [
            "Loading required package: stats4\n",
            "\n",
            "Loading required package: BiocGenerics\n",
            "\n",
            "\n",
            "Attaching package: ‘BiocGenerics’\n",
            "\n",
            "\n",
            "The following objects are masked from ‘package:stats’:\n",
            "\n",
            "    IQR, mad, sd, var, xtabs\n",
            "\n",
            "\n",
            "The following objects are masked from ‘package:base’:\n",
            "\n",
            "    anyDuplicated, aperm, append, as.data.frame, basename, cbind,\n",
            "    colnames, dirname, do.call, duplicated, eval, evalq, Filter, Find,\n",
            "    get, grep, grepl, intersect, is.unsorted, lapply, Map, mapply,\n",
            "    match, mget, order, paste, pmax, pmax.int, pmin, pmin.int,\n",
            "    Position, rank, rbind, Reduce, rownames, sapply, setdiff, sort,\n",
            "    table, tapply, union, unique, unsplit, which.max, which.min\n",
            "\n",
            "\n",
            "Loading required package: S4Vectors\n",
            "\n",
            "\n",
            "Attaching package: ‘S4Vectors’\n",
            "\n",
            "\n",
            "The following objects are masked from ‘package:data.table’:\n",
            "\n",
            "    first, second\n",
            "\n",
            "\n",
            "The following object is masked from ‘package:utils’:\n",
            "\n",
            "    findMatches\n",
            "\n",
            "\n",
            "The following objects are masked from ‘package:base’:\n",
            "\n",
            "    expand.grid, I, unname\n",
            "\n",
            "\n",
            "Loading required package: IRanges\n",
            "\n",
            "\n",
            "Attaching package: ‘IRanges’\n",
            "\n",
            "\n",
            "The following object is masked from ‘package:data.table’:\n",
            "\n",
            "    shift\n",
            "\n",
            "\n",
            "Loading required package: GenomeInfoDb\n",
            "\n",
            "\n",
            "Attaching package: ‘Matrix’\n",
            "\n",
            "\n",
            "The following object is masked from ‘package:S4Vectors’:\n",
            "\n",
            "    expand\n",
            "\n",
            "\n",
            "Warning message:\n",
            "“replacing previous import ‘GenomicRanges::intersect’ by ‘dplyr::intersect’ when loading ‘PICsnATAC’”\n",
            "Warning message:\n",
            "“replacing previous import ‘GenomicRanges::union’ by ‘dplyr::union’ when loading ‘PICsnATAC’”\n",
            "Warning message:\n",
            "“replacing previous import ‘GenomicRanges::setdiff’ by ‘dplyr::setdiff’ when loading ‘PICsnATAC’”\n",
            "Attaching SeuratObject\n",
            "\n",
            "Loading required package: ensembldb\n",
            "\n",
            "Loading required package: GenomicFeatures\n",
            "\n",
            "Loading required package: AnnotationDbi\n",
            "\n",
            "Loading required package: Biobase\n",
            "\n",
            "Welcome to Bioconductor\n",
            "\n",
            "    Vignettes contain introductory material; view with\n",
            "    'browseVignettes()'. To cite Bioconductor, see\n",
            "    'citation(\"Biobase\")', and for packages 'citation(\"pkgname\")'.\n",
            "\n",
            "\n",
            "Loading required package: AnnotationFilter\n",
            "\n",
            "\n",
            "Attaching package: 'ensembldb'\n",
            "\n",
            "\n",
            "The following object is masked from 'package:stats':\n",
            "\n",
            "    filter\n",
            "\n",
            "\n"
          ]
        }
      ]
    },
    {
      "cell_type": "code",
      "source": [
        "pbmc = readRDS('/content/human_brain_seurat_object_subset_for_test.rds')"
      ],
      "metadata": {
        "id": "f1-8TR4Pix37"
      },
      "execution_count": null,
      "outputs": []
    },
    {
      "cell_type": "markdown",
      "source": [
        "Next, we need to Compute the capturing probability to normalize the sequencing depth across cells. Run the function in "
      ],
      "metadata": {
        "id": "NNCqAhx6-0KC"
      }
    },
    {
      "cell_type": "code",
      "source": [
        "r_by_ct_out = get_r_by_ct_mat_pq(cell_type_set = unique(pbmc@meta.data$level1),\n",
        "                                 r_by_c = pbmc[['ATAC']]@counts,\n",
        "                                 cell_type_labels = pbmc@meta.data$level1,\n",
        "                                 p_acc = 5e-5, q_acc = 5e-5,n_max_iter = 2000,\n",
        "                                 n_features_per_cell = dim(pbmc[['ATAC']]@counts)[1])\n"
      ],
      "metadata": {
        "colab": {
          "base_uri": "https://localhost:8080/"
        },
        "id": "FI0ewCM4-ThT",
        "outputId": "40735aaf-5b58-48c5-e095-cd31d15a2409"
      },
      "execution_count": null,
      "outputs": [
        {
          "output_type": "stream",
          "name": "stderr",
          "text": [
            "Warning message in asMethod(object):\n",
            "\"sparse->dense coercion: allocating vector of size 17.0 GiB\"\n"
          ]
        }
      ]
    }
  ]
}